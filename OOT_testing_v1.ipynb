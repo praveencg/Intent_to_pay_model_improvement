{
 "cells": [
  {
   "cell_type": "code",
   "execution_count": 43,
   "id": "7e71ddc4",
   "metadata": {},
   "outputs": [
    {
     "data": {
      "text/plain": [
       "datetime.timedelta(0)"
      ]
     },
     "execution_count": 43,
     "metadata": {},
     "output_type": "execute_result"
    }
   ],
   "source": [
    "#1\n",
    "import pandas as pd\n",
    "import numpy as np\n",
    "import json\n",
    "\n",
    "import psycopg2\n",
    "from IPython.core.interactiveshell import InteractiveShell\n",
    "InteractiveShell.ast_node_interactivity = 'all'\n",
    "import matplotlib.pyplot as plt\n",
    "import seaborn as sns\n",
    "import matplotlib\n",
    "import matplotlib.pyplot as plt\n",
    "\n",
    "from sklearn.model_selection import train_test_split\n",
    "from sklearn.metrics import precision_score\n",
    "from sklearn.metrics import recall_score\n",
    "import xgboost as xgb\n",
    "from sklearn import metrics\n",
    "from xgboost import plot_importance\n",
    "import pandas as pd\n",
    "import numpy as np\n",
    "from matplotlib import pyplot as plt\n",
    "from statsmodels.stats.outliers_influence import variance_inflation_factor   \n",
    "import seaborn as sns\n",
    "%matplotlib inline\n",
    "import pickle\n",
    "import gc\n",
    "import warnings\n",
    "warnings.filterwarnings(\"ignore\")\n",
    "from sklearn.model_selection import train_test_split\n",
    "plt.style.use('bmh')\n",
    "from pandas import Series, DataFrame\n",
    "from sklearn.model_selection import GridSearchCV\n",
    "\n",
    "\n",
    "import math\n",
    "import traceback\n",
    "import sys\n",
    "import re\n",
    "import datetime\n",
    "datetime.timedelta()"
   ]
  },
  {
   "cell_type": "code",
   "execution_count": 44,
   "id": "b83bd491",
   "metadata": {},
   "outputs": [],
   "source": [
    "def ks(data=None,target=None, prob=None):\n",
    "    data['target0'] = 1 - data[target]\n",
    "    data['bucket'] = pd.qcut(data[prob], 10,duplicates='drop')\n",
    "    grouped = data.groupby('bucket', as_index = False)\n",
    "    kstable = pd.DataFrame()\n",
    "    kstable['min_prob'] = grouped.min()[prob]\n",
    "    kstable['max_prob'] = grouped.max()[prob]\n",
    "    kstable['events']   = grouped.sum()[target]\n",
    "    kstable['nonevents'] = grouped.sum()['target0']\n",
    "    kstable = kstable.sort_values(by=\"min_prob\", ascending=False).reset_index(drop = True)\n",
    "    kstable['event_rate'] = (kstable.events / data[target].sum()).apply('{0:.2%}'.format)\n",
    "    kstable['nonevent_rate'] = (kstable.nonevents / data['target0'].sum()).apply('{0:.2%}'.format)\n",
    "    kstable['cum_eventrate']=(kstable.events / data[target].sum()).cumsum()\n",
    "    kstable['cum_noneventrate']=(kstable.nonevents / data['target0'].sum()).cumsum()\n",
    "    kstable['KS'] = np.round(kstable['cum_eventrate']-kstable['cum_noneventrate'], 3) * 100\n",
    "\n",
    "    #Formating\n",
    "    kstable['cum_eventrate']= kstable['cum_eventrate'].apply('{0:.2%}'.format)\n",
    "    kstable['cum_noneventrate']= kstable['cum_noneventrate'].apply('{0:.2%}'.format)\n",
    "    kstable.index = range(1,11)\n",
    "    kstable.index.rename('Decile', inplace=True) \n",
    "    pd.set_option('display.max_columns', 9)\n",
    "    #print(kstable)\n",
    "     #Display KS\n",
    "    from colorama import Fore\n",
    "    print(Fore.RED + \"KS is \" + str(max(kstable['KS']))+\"%\"+ \" at decile \" + str((kstable.index[kstable['KS']==max(kstable['KS'])][0])))\n",
    "    return(kstable)\n"
   ]
  },
  {
   "cell_type": "code",
   "execution_count": 45,
   "id": "00df3dd2",
   "metadata": {},
   "outputs": [],
   "source": [
    "def adding_paid(data,paid):\n",
    "    temp=pd.merge(data,paid,how='left',left_on='Loan_ID',right_on='loan_id')\n",
    "    temp['paid_flag']=temp['paid_flag'].fillna(0)\n",
    "    return temp"
   ]
  },
  {
   "cell_type": "markdown",
   "id": "1a6abebf",
   "metadata": {},
   "source": [
    "### Loading xgb Model"
   ]
  },
  {
   "cell_type": "code",
   "execution_count": 46,
   "id": "d984d515",
   "metadata": {},
   "outputs": [],
   "source": [
    "# load\n",
    "file_name='KB_RR_xgb_v1.pkl'\n",
    "xgb_model= pickle.load(open(file_name, \"rb\"))"
   ]
  },
  {
   "cell_type": "markdown",
   "id": "e45fa223",
   "metadata": {},
   "source": [
    "## Aug_RR "
   ]
  },
  {
   "cell_type": "code",
   "execution_count": 47,
   "id": "f13e0fbf",
   "metadata": {},
   "outputs": [
    {
     "data": {
      "text/plain": [
       "(43876, 10)"
      ]
     },
     "execution_count": 47,
     "metadata": {},
     "output_type": "execute_result"
    }
   ],
   "source": [
    "##Script-1 data\n",
    "Aug22_ST1=pd.read_csv('data/input_data/processed_data/RR_Aug22_ST1.csv')\n",
    "Aug22_ST1['month']=7\n",
    "Aug22_ST1.shape\n",
    "\n",
    "##concating the data\n",
    "ST1=pd.concat([Aug22_ST1])"
   ]
  },
  {
   "cell_type": "code",
   "execution_count": 48,
   "id": "5a7e2b46",
   "metadata": {},
   "outputs": [
    {
     "data": {
      "text/plain": [
       "(43876, 175)"
      ]
     },
     "execution_count": 48,
     "metadata": {},
     "output_type": "execute_result"
    }
   ],
   "source": [
    "##Script-2 data\n",
    "Aug22_ST2=pd.read_csv('data/input_data/processed_data/RR_Aug22_last3_calls_ST2.csv')\n",
    "Aug22_ST2['month']=8\n",
    "Aug22_ST2.shape\n",
    "\n",
    "##concating the data\n",
    "ST2=pd.concat([Aug22_ST2])"
   ]
  },
  {
   "cell_type": "code",
   "execution_count": 49,
   "id": "042452d3",
   "metadata": {},
   "outputs": [
    {
     "data": {
      "text/plain": [
       "(43876, 11)"
      ]
     },
     "execution_count": 49,
     "metadata": {},
     "output_type": "execute_result"
    }
   ],
   "source": [
    "##Script-3 data\n",
    "Aug22_ST3=pd.read_csv('data/input_data/processed_data/RR_Aug22_loan_ST3.csv')\n",
    "Aug22_ST3['month']=8\n",
    "Aug22_ST3.shape\n",
    "\n",
    "Aug_paid=pd.read_excel('data/input_data/raw_data/aug22_paid_RR.xlsx')\n",
    "Aug_paid['paid_flag']=1\n",
    "Aug_paid=Aug_paid.rename(columns={'Loan No':'loan_id'})\n",
    "Aug22_ST3=adding_paid(Aug22_ST3,Aug_paid[['loan_id','paid_flag']])\n",
    "\n",
    "##concating the data\n",
    "ST3=pd.concat([Aug22_ST3])"
   ]
  },
  {
   "cell_type": "code",
   "execution_count": 50,
   "id": "fb7127d5",
   "metadata": {},
   "outputs": [
    {
     "data": {
      "text/plain": [
       "(43876, 10)"
      ]
     },
     "execution_count": 50,
     "metadata": {},
     "output_type": "execute_result"
    },
    {
     "data": {
      "text/plain": [
       "(43876, 175)"
      ]
     },
     "execution_count": 50,
     "metadata": {},
     "output_type": "execute_result"
    },
    {
     "data": {
      "text/plain": [
       "(44104, 13)"
      ]
     },
     "execution_count": 50,
     "metadata": {},
     "output_type": "execute_result"
    }
   ],
   "source": [
    "ST1.shape\n",
    "ST2.shape\n",
    "ST3.shape"
   ]
  },
  {
   "cell_type": "code",
   "execution_count": 51,
   "id": "1d8f3494",
   "metadata": {},
   "outputs": [
    {
     "data": {
      "text/plain": [
       "(44104, 187)"
      ]
     },
     "execution_count": 51,
     "metadata": {},
     "output_type": "execute_result"
    },
    {
     "data": {
      "text/plain": [
       "(44104, 195)"
      ]
     },
     "execution_count": 51,
     "metadata": {},
     "output_type": "execute_result"
    }
   ],
   "source": [
    "## merging all ST1 & ST2 & ST3 data\n",
    "ST3['Loan_ID']=ST3['Loan_ID'].astype(int).astype(str)\n",
    "ST2['L3_Loan_ID']=ST2['L3_Loan_ID'].astype(int).astype(str)\n",
    "ST1['Loan_ID']=ST1['Loan_ID'].astype(int).astype(str)\n",
    "\n",
    "df_temp=pd.merge(ST3,ST2,how='left',left_on=['month','Loan_ID'],right_on=['month','L3_Loan_ID'])\n",
    "df_temp.shape\n",
    "df_final=pd.merge(df_temp,ST1,how='left',left_on=['month','Loan_ID'],right_on=['month','Loan_ID'])\n",
    "df_final.shape"
   ]
  },
  {
   "cell_type": "code",
   "execution_count": 52,
   "id": "19883adb",
   "metadata": {},
   "outputs": [],
   "source": [
    "df=df_final.copy()"
   ]
  },
  {
   "cell_type": "code",
   "execution_count": 53,
   "id": "d87417de",
   "metadata": {},
   "outputs": [
    {
     "name": "stdout",
     "output_type": "stream",
     "text": [
      "Month :  1\n"
     ]
    },
    {
     "data": {
      "text/plain": [
       "Series([], Name: paid_flag, dtype: float64)"
      ]
     },
     "execution_count": 53,
     "metadata": {},
     "output_type": "execute_result"
    }
   ],
   "source": [
    "## Ratio between 0/1\n",
    "for i in range(1,2,1):\n",
    "    print(\"Month : \",i)\n",
    "    df[df['month']==i].paid_flag.value_counts(normalize=True)*100"
   ]
  },
  {
   "cell_type": "code",
   "execution_count": 54,
   "id": "8353394e",
   "metadata": {},
   "outputs": [],
   "source": [
    "## Selecting columns based on higher IV values:\n",
    "sel_col=[\n",
    "'month',\n",
    "'Loan_ID',\n",
    "'mean_call_duration',\n",
    "'call_picked_%',\n",
    "'call_response_%',\n",
    "'L2_call_duration',\n",
    "'L2_call_picked',\n",
    "'L2_call_responsive',\n",
    "'L2_Promiseto Pay',\n",
    "'L2_RPC',\n",
    "'L1_call_duration',\n",
    "'L1_call_picked',\n",
    "'L1_call_responsive',\n",
    "'L1_Promiseto Pay',\n",
    "'L1_RPC',\n",
    "'Principle_due_%',\n",
    "# 'Charges_due_%',\n",
    "'Panelty_due_%',\n",
    "'Principle_paid_%',\n",
    "'paid_flag'    \n",
    "]\n",
    "df1=df[sel_col]"
   ]
  },
  {
   "cell_type": "code",
   "execution_count": 55,
   "id": "fc15026e",
   "metadata": {},
   "outputs": [],
   "source": [
    "#downloading data for cross_check:\n",
    "df1.to_csv('ITP_model_data.csv',index=False)"
   ]
  },
  {
   "cell_type": "code",
   "execution_count": 56,
   "id": "4bfa1ba7",
   "metadata": {},
   "outputs": [],
   "source": [
    "#dropping_columns\n",
    "df1.drop(['call_picked_%'],axis=1,inplace=True)"
   ]
  },
  {
   "cell_type": "code",
   "execution_count": 57,
   "id": "f9d3cc41",
   "metadata": {},
   "outputs": [],
   "source": [
    "df1=df1.fillna(0)\n",
    "df1=round(df1,2)"
   ]
  },
  {
   "cell_type": "code",
   "execution_count": 58,
   "id": "39dc14c6",
   "metadata": {},
   "outputs": [
    {
     "data": {
      "text/plain": [
       "month                 0\n",
       "Loan_ID               0\n",
       "mean_call_duration    0\n",
       "call_response_%       0\n",
       "L2_call_duration      0\n",
       "L2_call_picked        0\n",
       "L2_call_responsive    0\n",
       "L2_Promiseto Pay      0\n",
       "L2_RPC                0\n",
       "L1_call_duration      0\n",
       "L1_call_picked        0\n",
       "L1_call_responsive    0\n",
       "L1_Promiseto Pay      0\n",
       "L1_RPC                0\n",
       "Principle_due_%       0\n",
       "Panelty_due_%         0\n",
       "Principle_paid_%      0\n",
       "paid_flag             0\n",
       "dtype: int64"
      ]
     },
     "execution_count": 58,
     "metadata": {},
     "output_type": "execute_result"
    }
   ],
   "source": [
    "df1.isnull().sum()"
   ]
  },
  {
   "cell_type": "code",
   "execution_count": 59,
   "id": "2112176b",
   "metadata": {},
   "outputs": [],
   "source": [
    "OOT=df1.copy()"
   ]
  },
  {
   "cell_type": "markdown",
   "id": "7bce3d5d",
   "metadata": {},
   "source": [
    "## Model Resutls"
   ]
  },
  {
   "cell_type": "code",
   "execution_count": 60,
   "id": "880eb346",
   "metadata": {},
   "outputs": [
    {
     "data": {
      "text/plain": [
       "<Figure size 720x432 with 0 Axes>"
      ]
     },
     "execution_count": 60,
     "metadata": {},
     "output_type": "execute_result"
    },
    {
     "data": {
      "text/plain": [
       "[<matplotlib.lines.Line2D at 0x7f8f74547f70>]"
      ]
     },
     "execution_count": 60,
     "metadata": {},
     "output_type": "execute_result"
    },
    {
     "data": {
      "text/plain": [
       "[<matplotlib.lines.Line2D at 0x7f8f74563400>]"
      ]
     },
     "execution_count": 60,
     "metadata": {},
     "output_type": "execute_result"
    },
    {
     "data": {
      "text/plain": [
       "Text(0, 0.5, 'TP rate')"
      ]
     },
     "execution_count": 60,
     "metadata": {},
     "output_type": "execute_result"
    },
    {
     "data": {
      "text/plain": [
       "Text(0.5, 0, 'FP rate')"
      ]
     },
     "execution_count": 60,
     "metadata": {},
     "output_type": "execute_result"
    },
    {
     "data": {
      "text/plain": [
       "<matplotlib.legend.Legend at 0x7f8f745631c0>"
      ]
     },
     "execution_count": 60,
     "metadata": {},
     "output_type": "execute_result"
    },
    {
     "data": {
      "text/plain": [
       "Text(0.5, 1.0, 'ROC Curve')"
      ]
     },
     "execution_count": 60,
     "metadata": {},
     "output_type": "execute_result"
    },
    {
     "data": {
      "image/png": "[encoded data removed]",
      "text/plain": [
       "<Figure size 720x432 with 1 Axes>"
      ]
     },
     "metadata": {
      "needs_background": "light"
     },
     "output_type": "display_data"
    }
   ],
   "source": [
    "y_pred = xgb_model.predict_proba(OOT.drop(columns=['Loan_ID','month','paid_flag']))[:,1]\n",
    "fp_r, tp_r, t = metrics.roc_curve(OOT['paid_flag'], y_pred)\n",
    "#tp_r, fpr, t = metrics.roc_curve(y_test, y_pred)\n",
    "auc = metrics.auc(fp_r, tp_r)\n",
    "plt.figure(figsize=(10, 6))\n",
    "plt.plot(fp_r, tp_r, label=\"AUC = %.2f\" % auc)\n",
    "plt.plot([0,1],[0,1],\"r--\")\n",
    "plt.ylabel(\"TP rate\")\n",
    "plt.xlabel(\"FP rate\")\n",
    "plt.legend(loc=4)\n",
    "plt.title(\"ROC Curve\")\n",
    "plt.show()"
   ]
  },
  {
   "cell_type": "code",
   "execution_count": 61,
   "id": "3498bd21",
   "metadata": {},
   "outputs": [
    {
     "name": "stdout",
     "output_type": "stream",
     "text": [
      "Threshold value is: 0.50\n"
     ]
    }
   ],
   "source": [
    "t_opt=0.5\n",
    "print(\"Threshold value is: %.2f\" % t_opt)"
   ]
  },
  {
   "cell_type": "code",
   "execution_count": 62,
   "id": "082ddc2e",
   "metadata": {},
   "outputs": [],
   "source": [
    "y_pred = (xgb_model.predict_proba(OOT.drop(columns=['Loan_ID','month','paid_flag']))[:,1] >=t_opt).astype(bool)"
   ]
  },
  {
   "cell_type": "code",
   "execution_count": 63,
   "id": "48a6443c",
   "metadata": {},
   "outputs": [
    {
     "name": "stdout",
     "output_type": "stream",
     "text": [
      "              precision    recall  f1-score   support\n",
      "\n",
      "         0.0       0.97      1.00      0.99     42821\n",
      "         1.0       0.97      0.03      0.05      1283\n",
      "\n",
      "    accuracy                           0.97     44104\n",
      "   macro avg       0.97      0.51      0.52     44104\n",
      "weighted avg       0.97      0.97      0.96     44104\n",
      "\n"
     ]
    }
   ],
   "source": [
    "## training data classification report\n",
    "print(metrics.classification_report(OOT['paid_flag'], y_pred))"
   ]
  },
  {
   "cell_type": "markdown",
   "id": "1adce3ed",
   "metadata": {},
   "source": [
    "### conversion / precision / recall on top 1%, 5%, 10% and 30% "
   ]
  },
  {
   "cell_type": "markdown",
   "id": "7b3ab9d5",
   "metadata": {},
   "source": [
    "#### OOT"
   ]
  },
  {
   "cell_type": "code",
   "execution_count": 64,
   "id": "9bc64af9",
   "metadata": {},
   "outputs": [
    {
     "name": "stdout",
     "output_type": "stream",
     "text": [
      "Results on top 1% data : \n",
      "precision :  66.9683257918552\n",
      "recall :  23.07092751363991 \n",
      "\n",
      "Results on top 5% data : \n",
      "precision :  22.756119673617405\n",
      "recall :  39.12704598597038 \n",
      "\n",
      "Results on top 10% data : \n",
      "precision :  15.756064384493312\n",
      "recall :  54.16991426344505 \n",
      "\n",
      "Results on top 30% data : \n",
      "precision :  7.716142684401452\n",
      "recall :  79.57911145752144 \n",
      "\n"
     ]
    }
   ],
   "source": [
    "y_OOT_pred = (xgb_model.predict_proba(OOT.drop(columns=['Loan_ID','month','paid_flag']))[:,1])\n",
    "OOT_pred_label = (xgb_model.predict_proba(OOT.drop(columns=['Loan_ID','month','paid_flag']))[:,1] >=t_opt).astype(int)\n",
    "df_OOT=pd.DataFrame({'prob':y_OOT_pred,'pred_label':OOT_pred_label,'actual_label':OOT['paid_flag']})\n",
    "df_OOT=df_OOT.sort_values('prob',ascending=False).reset_index()\n",
    "\n",
    "total_1=sum(df_OOT['actual_label'])\n",
    "\n",
    "print(\"Results on top 1% data : \")\n",
    "df_temp=df_OOT[:math.ceil(len(df_OOT)/100*1)]\n",
    "total_sub_1=sum(df_OOT['actual_label'])\n",
    "print(\"precision : \",sum(df_temp['actual_label'])/len(df_temp)*100)\n",
    "print(\"recall : \", sum(df_temp['actual_label'])/sum(df_OOT['actual_label'])*100 , \"\\n\")\n",
    "\n",
    "print(\"Results on top 5% data : \")\n",
    "df_temp=df_OOT[:math.ceil(len(df_OOT)/100*5)]\n",
    "total_sub_1=sum(df_OOT['actual_label'])\n",
    "print(\"precision : \",sum(df_temp['actual_label'])/len(df_temp)*100)\n",
    "print(\"recall : \", sum(df_temp['actual_label'])/sum(df_OOT['actual_label'])*100, \"\\n\")\n",
    "\n",
    "print(\"Results on top 10% data : \")\n",
    "df_temp=df_OOT[:math.ceil(len(df_OOT)/100*10)]\n",
    "total_sub_1=sum(df_OOT['actual_label'])\n",
    "print(\"precision : \",sum(df_temp['actual_label'])/len(df_temp)*100)\n",
    "print(\"recall : \",sum(df_temp['actual_label'])/sum(df_OOT['actual_label'])*100, \"\\n\")\n",
    "\n",
    "print(\"Results on top 30% data : \")\n",
    "df_temp=df_OOT[:math.ceil(len(df_OOT)/100*30)]\n",
    "total_sub_1=sum(df_OOT['actual_label'])\n",
    "print(\"precision : \",sum(df_temp['actual_label'])/len(df_temp)*100)\n",
    "print(\"recall : \", sum(df_temp['actual_label'])/sum(df_OOT['actual_label'])*100, \"\\n\")\n",
    "\n"
   ]
  },
  {
   "cell_type": "markdown",
   "id": "769df4a7",
   "metadata": {},
   "source": [
    "### Shap Explainbility"
   ]
  },
  {
   "cell_type": "code",
   "execution_count": 65,
   "id": "b12855b7",
   "metadata": {},
   "outputs": [],
   "source": [
    "import shap"
   ]
  },
  {
   "cell_type": "code",
   "execution_count": 66,
   "id": "3600ecf9",
   "metadata": {},
   "outputs": [],
   "source": [
    "explainer = shap.TreeExplainer(xgb_model)"
   ]
  },
  {
   "cell_type": "code",
   "execution_count": 67,
   "id": "8417d4c2",
   "metadata": {},
   "outputs": [],
   "source": [
    "shap_values = explainer.shap_values(OOT.drop(['Loan_ID','month','paid_flag'],axis=1))"
   ]
  },
  {
   "cell_type": "code",
   "execution_count": 68,
   "id": "f4891d4f",
   "metadata": {},
   "outputs": [
    {
     "data": {
      "image/png": "[encoded data removed]",
      "text/plain": [
       "<Figure size 576x540 with 2 Axes>"
      ]
     },
     "metadata": {
      "needs_background": "light"
     },
     "output_type": "display_data"
    }
   ],
   "source": [
    "shap.summary_plot(shap_OOTues, OOT.drop(['Loan_ID','month','paid_flag'],axis=1), max_display=15)"
   ]
  },
  {
   "cell_type": "code",
   "execution_count": null,
   "id": "d836495b",
   "metadata": {},
   "outputs": [],
   "source": []
  },
  {
   "cell_type": "markdown",
   "id": "102d71d0",
   "metadata": {},
   "source": [
    "#### End of Code <-----"
   ]
  },
  {
   "cell_type": "code",
   "execution_count": null,
   "id": "ea90360f",
   "metadata": {},
   "outputs": [],
   "source": []
  }
 ],
 "metadata": {
  "kernelspec": {
   "display_name": "Python 3 (ipykernel)",
   "language": "python",
   "name": "python3"
  },
  "language_info": {
   "codemirror_mode": {
    "name": "ipython",
    "version": 3
   },
   "file_extension": ".py",
   "mimetype": "text/x-python",
   "name": "python",
   "nbconvert_exporter": "python",
   "pygments_lexer": "ipython3",
   "version": "3.8.10"
  }
 },
 "nbformat": 4,
 "nbformat_minor": 5
}
