{
 "cells": [
  {
   "cell_type": "code",
   "execution_count": 69,
   "id": "0f28b79b",
   "metadata": {},
   "outputs": [
    {
     "data": {
      "text/plain": [
       "datetime.timedelta(0)"
      ]
     },
     "execution_count": 69,
     "metadata": {},
     "output_type": "execute_result"
    }
   ],
   "source": [
    "#1\n",
    "import pandas as pd\n",
    "import numpy as np\n",
    "import json\n",
    "\n",
    "import psycopg2\n",
    "from IPython.core.interactiveshell import InteractiveShell\n",
    "InteractiveShell.ast_node_interactivity = 'all'\n",
    "import matplotlib.pyplot as plt\n",
    "import seaborn as sns\n",
    "import matplotlib\n",
    "import matplotlib.pyplot as plt\n",
    "\n",
    "from sklearn.model_selection import train_test_split\n",
    "from sklearn.metrics import precision_score\n",
    "from sklearn.metrics import recall_score\n",
    "import xgboost as xgb\n",
    "from sklearn import metrics\n",
    "from xgboost import plot_importance\n",
    "import pandas as pd\n",
    "import numpy as np\n",
    "from matplotlib import pyplot as plt\n",
    "from statsmodels.stats.outliers_influence import variance_inflation_factor   \n",
    "import seaborn as sns\n",
    "%matplotlib inline\n",
    "import pickle\n",
    "import gc\n",
    "import warnings\n",
    "warnings.filterwarnings(\"ignore\")\n",
    "from sklearn.model_selection import train_test_split\n",
    "plt.style.use('bmh')\n",
    "from pandas import Series, DataFrame\n",
    "from sklearn.model_selection import GridSearchCV\n",
    "\n",
    "\n",
    "import math\n",
    "import traceback\n",
    "import sys\n",
    "import re\n",
    "import datetime\n",
    "datetime.timedelta()"
   ]
  },
  {
   "cell_type": "code",
   "execution_count": 70,
   "id": "6adc7fd9",
   "metadata": {},
   "outputs": [],
   "source": [
    "#other data loading\n",
    "agent_disp_1_2=pd.read_csv('data/input_data/AGENT_DISP_1_2.csv')"
   ]
  },
  {
   "cell_type": "markdown",
   "id": "2628ccd3",
   "metadata": {},
   "source": [
    "### RR/KB data creation"
   ]
  },
  {
   "cell_type": "code",
   "execution_count": 74,
   "id": "f9410829",
   "metadata": {},
   "outputs": [
    {
     "data": {
      "text/plain": [
       "(41585, 26)"
      ]
     },
     "execution_count": 74,
     "metadata": {},
     "output_type": "execute_result"
    },
    {
     "data": {
      "text/plain": [
       "(1108446, 38)"
      ]
     },
     "execution_count": 74,
     "metadata": {},
     "output_type": "execute_result"
    }
   ],
   "source": [
    "#RR june data\n",
    "allocation=pd.read_csv('data/input_data/raw_data/may22_allocation_RR.csv')\n",
    "paid=pd.read_excel('data/input_data/raw_data/may22_paid_RR.xlsx')\n",
    "existing_comms=pd.read_csv('data/input_data/raw_data/RR_may_comms_1_31_v1.csv')\n",
    "\n",
    "allocation=allocation[allocation['DPD']>90]\n",
    "allocation.shape\n",
    "existing_comms.shape"
   ]
  },
  {
   "cell_type": "code",
   "execution_count": 75,
   "id": "8bcf0e69",
   "metadata": {},
   "outputs": [
    {
     "name": "stdout",
     "output_type": "stream",
     "text": [
      "COMMS_1_2_PICKED\n"
     ]
    },
    {
     "data": {
      "text/plain": [
       "(24, 44)"
      ]
     },
     "execution_count": 75,
     "metadata": {},
     "output_type": "execute_result"
    },
    {
     "name": "stdout",
     "output_type": "stream",
     "text": [
      "SCRIPT_1\n"
     ]
    },
    {
     "data": {
      "text/plain": [
       "(39773, 9)"
      ]
     },
     "execution_count": 75,
     "metadata": {},
     "output_type": "execute_result"
    },
    {
     "name": "stdout",
     "output_type": "stream",
     "text": [
      "SCRIPT_2\n"
     ]
    },
    {
     "data": {
      "text/plain": [
       "(39773, 174)"
      ]
     },
     "execution_count": 75,
     "metadata": {},
     "output_type": "execute_result"
    },
    {
     "name": "stdout",
     "output_type": "stream",
     "text": [
      "SCRIPT_3\n"
     ]
    },
    {
     "data": {
      "text/plain": [
       "(39773, 10)"
      ]
     },
     "execution_count": 75,
     "metadata": {},
     "output_type": "execute_result"
    }
   ],
   "source": [
    "%run /home/recovery_prediction/pod5_recovery_prediction/praveen/Projects/intent_to_pay_model/intermediate_code/data_creation_for_modeling_itp.ipynb\n",
    "\n",
    "print('COMMS_1_2_PICKED')\n",
    "comms_1_2_picked=comms_1_2_picked_customers_script_4(allocation.copy(),existing_comms.copy())\n",
    "comms_1_2_picked.shape\n",
    "\n",
    "print('SCRIPT_1')\n",
    "ST1=overall_comms_features_script_1(allocation.copy(),existing_comms.copy(),comms_1_2_picked.copy())\n",
    "ST1.shape\n",
    "\n",
    "print('SCRIPT_2')\n",
    "ST2=last_3_comms_features_script_2(allocation.copy(),existing_comms.copy(),comms_1_2_picked.copy(),agent_disp_1_2.copy())\n",
    "ST2.shape\n",
    "\n",
    "print('SCRIPT_3')\n",
    "ST3=loan_data_features_script_3(allocation.copy(),existing_comms.copy(),comms_1_2_picked.copy(),agent_disp_1_2.copy())\n",
    "ST3.shape\n"
   ]
  },
  {
   "cell_type": "code",
   "execution_count": 90,
   "id": "ab283573",
   "metadata": {},
   "outputs": [],
   "source": [
    "#saving_files\n",
    "ST1.to_csv(\"data/input_data/processed_data/RR_May22_ST1.csv\",index=False)\n",
    "ST2.to_csv(\"data/input_data/processed_data/RR_May22_last3_calls_ST2.csv\",index=False)\n",
    "ST3.to_csv(\"data/input_data/processed_data/RR_May22_loan_ST3.csv\",index=False)"
   ]
  },
  {
   "cell_type": "code",
   "execution_count": null,
   "id": "5b0937bd",
   "metadata": {},
   "outputs": [],
   "source": []
  }
 ],
 "metadata": {
  "kernelspec": {
   "display_name": "Python 3 (ipykernel)",
   "language": "python",
   "name": "python3"
  },
  "language_info": {
   "codemirror_mode": {
    "name": "ipython",
    "version": 3
   },
   "file_extension": ".py",
   "mimetype": "text/x-python",
   "name": "python",
   "nbconvert_exporter": "python",
   "pygments_lexer": "ipython3",
   "version": "3.8.10"
  }
 },
 "nbformat": 4,
 "nbformat_minor": 5
}
